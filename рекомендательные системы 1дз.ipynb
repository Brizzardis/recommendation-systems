{
 "cells": [
  {
   "cell_type": "markdown",
   "metadata": {},
   "source": [
    "# Домащнее задание - 1"
   ]
  },
  {
   "cell_type": "markdown",
   "metadata": {},
   "source": [
    "Заполните пропуски #your_code для функций ниже"
   ]
  },
  {
   "cell_type": "code",
   "execution_count": 1,
   "metadata": {},
   "outputs": [],
   "source": [
    "import numpy as np\n",
    "\n",
    "recommended_list = [143, 156, 1134, 991, 27, 1543, 3345, 533, 11, 43] #id товаров\n",
    "bought_list = [521, 32, 143, 991]\n",
    "\n",
    "prices_recommended = [100, 90, 10, 450, 50, 37, 99, 120, 34, 100]\n",
    "prices_bought = [110, 190, 100, 450]"
   ]
  },
  {
   "cell_type": "code",
   "execution_count": 65,
   "metadata": {},
   "outputs": [],
   "source": [
    "def hit_rate_at_k(recommended_list, bought_list, k=5):\n",
    "    \n",
    "    flags = np.isin(bought_list, recommended_list[:k])\n",
    "    hit_rate_k = (flags.sum() > 0) * 1    \n",
    "    \n",
    "    return hit_rate_k"
   ]
  },
  {
   "cell_type": "code",
   "execution_count": 66,
   "metadata": {},
   "outputs": [
    {
     "data": {
      "text/plain": [
       "1"
      ]
     },
     "execution_count": 66,
     "metadata": {},
     "output_type": "execute_result"
    }
   ],
   "source": [
    "hit_rate_k = hit_rate_at_k(recommended_list, bought_list, k=5)\n",
    "hit_rate_k"
   ]
  },
  {
   "cell_type": "code",
   "execution_count": 71,
   "metadata": {},
   "outputs": [],
   "source": [
    "def money_precision_at_k(recommended_list, bought_list, prices_recommended, k=5):\n",
    "\n",
    "    flags = np.isin(recommended_list[:k], bought_list)\n",
    "    precision_k = sum(prices_recommended[:k]*flags)/sum(prices_recommended[:k])\n",
    "    \n",
    "    return precision_k"
   ]
  },
  {
   "cell_type": "code",
   "execution_count": 72,
   "metadata": {},
   "outputs": [
    {
     "name": "stdout",
     "output_type": "stream",
     "text": [
      "0.7857142857142857\n",
      "0.79%\n"
     ]
    }
   ],
   "source": [
    "precision_k = money_precision_at_k(recommended_list, bought_list, prices_recommended, k=5)\n",
    "print(precision_k)\n",
    "print(f'{precision_k.round(2)}%')"
   ]
  },
  {
   "cell_type": "code",
   "execution_count": 78,
   "metadata": {},
   "outputs": [],
   "source": [
    "def recall_at_k(recommended_list, bought_list, k=5):\n",
    "    \n",
    "    flags = np.isin(bought_list, recommended_list[:k])\n",
    "    recall_k = flags.sum() / len(bought_list)\n",
    "    \n",
    "    return recall_k\n",
    "\n",
    "\n",
    "def money_recall_at_k(recommended_list, bought_list, prices_bought, k=5):\n",
    "    \n",
    "    flags = np.isin(bought_list, recommended_list[:k])\n",
    "    money_recall_k = sum(prices_bought*flags) / sum(prices_bought)\n",
    "    \n",
    "    return money_recall_k"
   ]
  },
  {
   "cell_type": "code",
   "execution_count": 79,
   "metadata": {},
   "outputs": [
    {
     "data": {
      "text/plain": [
       "0.5"
      ]
     },
     "execution_count": 79,
     "metadata": {},
     "output_type": "execute_result"
    }
   ],
   "source": [
    "recall_k = recall_at_k(recommended_list, bought_list, k=5)\n",
    "recall_k"
   ]
  },
  {
   "cell_type": "code",
   "execution_count": 80,
   "metadata": {},
   "outputs": [
    {
     "name": "stdout",
     "output_type": "stream",
     "text": [
      "0.6470588235294118\n",
      "0.65%\n"
     ]
    }
   ],
   "source": [
    "money_recall_k = money_recall_at_k(recommended_list, bought_list, prices_bought, k=5)\n",
    "print(money_recall_k)\n",
    "print(f'{money_recall_k.round(2)}%')"
   ]
  },
  {
   "cell_type": "code",
   "execution_count": 98,
   "metadata": {},
   "outputs": [],
   "source": [
    "def reciprocal_rank(recommended_list, bought_list):\n",
    "    \n",
    "    flags = np.isin(recommended_list, bought_list)\n",
    "    r_rank = list(flags).index(True)+1\n",
    "    \n",
    "    return r_rank"
   ]
  },
  {
   "cell_type": "code",
   "execution_count": 99,
   "metadata": {},
   "outputs": [
    {
     "data": {
      "text/plain": [
       "1"
      ]
     },
     "execution_count": 99,
     "metadata": {},
     "output_type": "execute_result"
    }
   ],
   "source": [
    "r_rank = reciprocal_rank(recommended_list, bought_list)\n",
    "r_rank"
   ]
  },
  {
   "cell_type": "code",
   "execution_count": null,
   "metadata": {},
   "outputs": [],
   "source": []
  }
 ],
 "metadata": {
  "kernelspec": {
   "display_name": "Python 3",
   "language": "python",
   "name": "python3"
  },
  "language_info": {
   "codemirror_mode": {
    "name": "ipython",
    "version": 3
   },
   "file_extension": ".py",
   "mimetype": "text/x-python",
   "name": "python",
   "nbconvert_exporter": "python",
   "pygments_lexer": "ipython3",
   "version": "3.7.6"
  }
 },
 "nbformat": 4,
 "nbformat_minor": 4
}
